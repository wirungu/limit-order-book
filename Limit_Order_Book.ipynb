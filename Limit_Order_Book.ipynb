{
  "nbformat": 4,
  "nbformat_minor": 0,
  "metadata": {
    "colab": {
      "provenance": [],
      "authorship_tag": "ABX9TyNirWvNYtrsyqIL67YOJXKB",
      "include_colab_link": true
    },
    "kernelspec": {
      "name": "python3",
      "display_name": "Python 3"
    },
    "language_info": {
      "name": "python"
    }
  },
  "cells": [
    {
      "cell_type": "markdown",
      "metadata": {
        "id": "view-in-github",
        "colab_type": "text"
      },
      "source": [
        "<a href=\"https://colab.research.google.com/github/wirungu/limit-order-book/blob/main/Limit_Order_Book.ipynb\" target=\"_parent\"><img src=\"https://colab.research.google.com/assets/colab-badge.svg\" alt=\"Open In Colab\"/></a>"
      ]
    },
    {
      "cell_type": "markdown",
      "source": [
        "# A simple limit order book\n",
        "As part of a recent technical interview I was given the following problem, which I enjoyed thinking about. What follows is a cleaned up version of my submission, along with some comments. There may well still be bugs in this code, even though it returns the correct solution for our test case. I'd love to hear about them if you find any."
      ],
      "metadata": {
        "id": "8OSYr_Vw8I7N"
      }
    },
    {
      "cell_type": "markdown",
      "source": [
        "## Problem statement\n",
        "Implement a class `LimitOrderBook` that can process limit orders, i.e., either execute them against existing orders in the book or add them to the book. The limit order book should maintain the `best bid`, `best bid volume` (sum of volume at best bid), `best ask` and `best ask volume` (sum of volume at best ask).\n",
        "\n",
        "Your class should be able to process the following list of orders:\n",
        "\n"
      ],
      "metadata": {
        "id": "sd1IZJYPA-sQ"
      }
    },
    {
      "cell_type": "code",
      "execution_count": 4,
      "metadata": {
        "id": "6BCVc-jr85TF"
      },
      "outputs": [],
      "source": [
        "orders = [\n",
        "    {\"direction\": \"buy\", \"quantity\": 100, \"price\": 98},\n",
        "    {\"direction\": \"buy\", \"quantity\": 20, \"price\": 99},\n",
        "    {\"direction\": \"buy\", \"quantity\": 50, \"price\": 99},\n",
        "    {\"direction\": \"sell\", \"quantity\": 100, \"price\": 101},\n",
        "    {\"direction\": \"sell\", \"quantity\": 200, \"price\": 101},\n",
        "    {\"direction\": \"sell\", \"quantity\": 200, \"price\": 102},\n",
        "    {\"direction\": \"sell\", \"quantity\": 120, \"price\": 99},\n",
        "]"
      ]
    },
    {
      "cell_type": "markdown",
      "source": [
        "After processing these orders, what is the `best_bid`, `best_bid_volume`, `best_ask`, `best_ask_volume`?"
      ],
      "metadata": {
        "id": "-86sMn1RBRjy"
      }
    },
    {
      "cell_type": "markdown",
      "source": [
        "## Problem Overview\n",
        "\n",
        "A limit order is a direction to buy or sell a certain amount of stock at a specified price or better, in contrast to a market order which is fulfilled at the prevailing price. A limit order book is a record of outstanding limit orders maintained by the exchange. A buy limit order is an order to buy at a pre-specified price or lower while a sell limit order is an order to sell a security at a pre-specified price or higher. The bid side of the book then represents the open offers to buy, while the ask side represents open orders to sell. The buyers wish to buy for as low a price as possible, and the sellers wish to sell for as high a price as possible, and there develops a *bid-ask spread.* A trade happens when the highest bid is greater than or equal to the lowest ask, and we say the spread has been crossed.\n",
        "\n",
        "Limit order books are often implemented with price-time priority: orders are executed at the best possible price first, and if there are multiple outstanding orders at the same price the earliest one is chosen. This is not what's going on in our example here since there aren't any timestamps.\n",
        "\n",
        "Now, let's think about the process for submitting (e.g.) a buy order:\n",
        "- First, check the lowest price of the sell side of the limit book.\n",
        "- If this price is less than or equal to the the buy side, execute a trade.\n",
        "- If the buyer still has more volume left to fill, look for the next lowest price on the sell side and keep going.\n",
        "- If there is still unfilled volume for the buyer's trade after doing this, add that volume to the bid side.\n",
        "\n",
        "We are prioritizing orders with the lowest price, so we're looking for a priority queue implementation. What data structure should we use to store this order book?\n",
        "A heap is only one possibility: $O(\\log n)$ inserts and pops worst case. We'll use a min heap to represent the sell side (and quickly get the lowest price) and a max heap to represent the buy side. Unfortunately python's `heapq` can't directly implement max heaps: one has to negate the prices and use a min heap, which doesn't feel very pythonic aside from the many bugs that surely must arise from such an approach.\n",
        "\n",
        "If we had timestamps, we would implement a heap of queues (assuming the orders are coming in order of timestamp)."
      ],
      "metadata": {
        "id": "qGNNfMKa8AZi"
      }
    },
    {
      "cell_type": "markdown",
      "source": [
        "## Implementation"
      ],
      "metadata": {
        "id": "a0H4K8ETFZ7e"
      }
    },
    {
      "cell_type": "code",
      "source": [
        "import heapq\n",
        "\n",
        "class LimitOrderBook:\n",
        "    def __init__(self):\n",
        "        self.buy_orders = []  # Max heap for buy orders (negate price to simulate max heap)\n",
        "        self.sell_orders = []  # Min heap for sell orders\n",
        "        self.best_bid = None\n",
        "        self.best_bid_volume = 0\n",
        "        self.best_ask = None\n",
        "        self.best_ask_volume = 0\n",
        "\n",
        "    def process_orders(self, order_list):\n",
        "        for order in order_list:\n",
        "            direction = order[\"direction\"]\n",
        "            quantity = order[\"quantity\"]\n",
        "            price = order[\"price\"]\n",
        "\n",
        "            if direction == \"buy\":\n",
        "                self.process_buy_order(quantity, price)\n",
        "            elif direction == \"sell\":\n",
        "                self.process_sell_order(quantity, price)\n",
        "\n",
        "    def process_buy_order(self, quantity, price):\n",
        "        # Update best bid and best bid volume\n",
        "        if not self.best_bid or price > self.best_bid:\n",
        "            self.best_bid = price\n",
        "            self.best_bid_volume = quantity\n",
        "        elif price == self.best_bid:\n",
        "            self.best_bid_volume += quantity\n",
        "\n",
        "        heapq.heappush(self.buy_orders, (-price, quantity))\n",
        "\n",
        "    def process_sell_order(self, quantity, price):\n",
        "        # Update best ask and best ask volume\n",
        "        if not self.best_ask or price < self.best_ask:\n",
        "            self.best_ask = price\n",
        "            self.best_ask_volume = quantity\n",
        "        elif price == self.best_ask:\n",
        "            self.best_ask_volume += quantity\n",
        "\n",
        "        heapq.heappush(self.sell_orders, (price, quantity))\n",
        "\n",
        "        while self.buy_orders and self.sell_orders:\n",
        "            best_buy_price = -self.buy_orders[0][0]\n",
        "            best_sell_price = self.sell_orders[0][0]\n",
        "\n",
        "            if best_buy_price < best_sell_price:\n",
        "                break\n",
        "\n",
        "            buy_price, buy_quantity = heapq.heappop(self.buy_orders)\n",
        "            sell_price, sell_quantity = heapq.heappop(self.sell_orders)\n",
        "\n",
        "            trade_quantity = min(buy_quantity, sell_quantity)\n",
        "            if trade_quantity > 0:\n",
        "                self.best_bid_volume -= trade_quantity\n",
        "                self.best_ask_volume -= trade_quantity\n",
        "\n",
        "                if buy_quantity > trade_quantity:\n",
        "                    heapq.heappush(self.buy_orders, (buy_price, buy_quantity - trade_quantity))\n",
        "                if sell_quantity > trade_quantity:\n",
        "                    heapq.heappush(self.sell_orders, (sell_price, sell_quantity - trade_quantity))\n",
        "\n",
        "        # Update best bid and best ask if orders were completely filled\n",
        "        if self.best_bid_volume == 0 and self.buy_orders:\n",
        "            self.best_bid = -self.buy_orders[0][0]\n",
        "            self.best_bid_volume = self.buy_orders[0][1]\n",
        "\n",
        "        if self.best_ask_volume == 0 and self.sell_orders:\n",
        "            self.best_ask = self.sell_orders[0][0]\n",
        "            self.best_ask_volume = self.sell_orders[0][1]\n"
      ],
      "metadata": {
        "id": "rgz2oKX-_-M-"
      },
      "execution_count": 3,
      "outputs": []
    },
    {
      "cell_type": "markdown",
      "source": [
        "Let's run this. The set of orders here is small enough that we can compute the best bid and best ask ourselves to verify the result."
      ],
      "metadata": {
        "id": "yKIg7JbEHnhL"
      }
    },
    {
      "cell_type": "code",
      "source": [
        "order_book = LimitOrderBook()\n",
        "order_book.process_orders(orders)\n",
        "\n",
        "print(\"Best Bid:\", order_book.best_bid)\n",
        "print(\"Best Bid Volume:\", order_book.best_bid_volume)\n",
        "print(\"Best Ask:\", order_book.best_ask)\n",
        "print(\"Best Ask Volume:\", order_book.best_ask_volume)"
      ],
      "metadata": {
        "colab": {
          "base_uri": "https://localhost:8080/"
        },
        "id": "oH1otuT-_-7N",
        "outputId": "595ffdd4-7e88-41b7-d731-807841c8aeea"
      },
      "execution_count": 5,
      "outputs": [
        {
          "output_type": "stream",
          "name": "stdout",
          "text": [
            "Best Bid: 98\n",
            "Best Bid Volume: 100\n",
            "Best Ask: 99\n",
            "Best Ask Volume: 50\n"
          ]
        }
      ]
    },
    {
      "cell_type": "markdown",
      "source": [
        "A simple check by hand shows that this is indeed correct."
      ],
      "metadata": {
        "id": "65MsuffMH5ob"
      }
    },
    {
      "cell_type": "markdown",
      "source": [
        "## Explanation of code\n",
        "Here's an explanation of the key components and functionalities of the code:\n",
        "\n",
        "1. **Class Initialization (`__init__` method):**\n",
        "   - The constructor initialized two heaps: `buy_orders` and `sell_orders`. The `buy_orders` heap is a max heap (implemented using negated prices), while the `sell_orders` heap is a min heap.\n",
        "   - The attributes `best_bid`, `best_bid_volume`, `best_ask`, and `best_ask_volume` are initialized to track the best bid and ask prices, as well as their corresponding total volumes.\n",
        "\n",
        "2. **Processing Orders (`process_orders` method):**\n",
        "   - The `process_orders` method takes a list of orders as input and processes each order one by one.\n",
        "   - For each order, the direction (buy or sell), quantity, and price are extracted.\n",
        "\n",
        "3. **Processing Buy Orders (`process_buy_order` method):**\n",
        "   - When processing a buy order (`direction` is \"buy\"), the method updates the best bid and best bid volume if needed.\n",
        "   - It adds the buy order to the `buy_orders` heap while negating the price (to ensure max heap behavior).\n",
        "\n",
        "4. **Processing Sell Orders (`process_sell_order` method):**\n",
        "   - When processing a sell order (`direction` is \"sell\"), the method updates the best ask and best ask volume if needed.\n",
        "   - It adds the sell order to the `sell_orders` heap.\n",
        "\n",
        "5. **Matching Orders (`while` loop):**\n",
        "   - After processing each order, the code enters a `while` loop to match buy and sell orders if possible.\n",
        "   - It compares the best buy price and the best sell price. If the best buy price is higher than or equal to the best sell price, a trade can occur.\n",
        "   - Inside the loop, it pops the best buy and sell orders from their respective heaps.\n",
        "   - It calculates the trade quantity as the minimum of the buy and sell quantities.\n",
        "   - The trade quantity is subtracted from the best bid and best ask volumes.\n",
        "   - If there's remaining quantity for the buy or sell order, the updated order is pushed back onto the respective heap.\n",
        "\n",
        "6. **Heap Operations:**\n",
        "   - The use of heaps (`buy_orders` and `sell_orders`) ensures efficient retrieval of the best bid and best ask prices.\n",
        "   - The negation of prices for buy orders allows for proper max heap behavior.\n",
        "\n",
        "7. **Best Bid and Best Ask Updates:**\n",
        "   - The best bid and best ask prices and volumes are updated based on incoming orders and trades.\n",
        "8. **Check if Best Bid and Best Ask are Filled:**\n",
        "   - If all orders at the best bid and best ask price level were completely filled, we update to the next best bid/ask price and volume.\n"
      ],
      "metadata": {
        "id": "p1rz6yEpCs5r"
      }
    },
    {
      "cell_type": "markdown",
      "source": [
        "## Alternative implementations\n",
        "Besides using two heaps for the buy and sell orders, there are several other data structures that we could consider for implementing a limit order book, each with their own tradeoffs:\n",
        "\n",
        "1. Doubly-Linked List\n",
        "2. AVL Tree or Red-Black Tree\n",
        "3. Hash Table\n",
        "4. Skip Lists\n",
        "5. Fibonacci Heap\n",
        "\n",
        "People in industry seem to prefer linked lists where the buy and sell orders are separate doubly-linked lists. Each node in the doubly-linked list represents an order, and the nodes would be linked together to maintain the order of arrival.\n",
        "\n",
        "Balanced BSTs also seem popular in industry."
      ],
      "metadata": {
        "id": "Ygh_uKUyIxYr"
      }
    },
    {
      "cell_type": "markdown",
      "source": [
        "## Some useful references\n",
        "1. Several posts on https://quant.stackexchange.com were helpful: just search for limit order books to find them.\n",
        "2. https://web.archive.org/web/20110219163448/http://howtohft.wordpress.com/2011/02/15/how-to-build-a-fast-limit-order-book/\n",
        "3. The book *Limit Order Books* by Frédéric Abergel et al.\n",
        "4. The paper *Limit order books* by Martin D. Gould et al."
      ],
      "metadata": {
        "id": "27Zu6X2rFyzY"
      }
    },
    {
      "cell_type": "code",
      "source": [],
      "metadata": {
        "id": "mfsPjbPbHSJ4"
      },
      "execution_count": null,
      "outputs": []
    }
  ]
}